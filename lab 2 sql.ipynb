{
 "cells": [
  {
   "cell_type": "code",
   "execution_count": null,
   "metadata": {
    "collapsed": true
   },
   "outputs": [],
   "source": [
    "#challenge 1\n",
    "\n",
    "SELECT\n",
    "\t\ta.au_id, \n",
    "\t\ta.au_lname, \n",
    "\t\ta.au_fname,\n",
    "\t\tti.title,\n",
    "\t\tp.pub_name\n",
    "\t\t\n",
    "FROM authors as a \n",
    "JOIN titleauthor as t on a.au_id = t.au_id\n",
    "JOIN titles as ti on t.title_id = ti.title_id\n",
    "JOIN publishers as p on ti.pub_id = p.pub_id\n",
    "GROUP BY 1,2,3,4,5;\n",
    "\n",
    "SELECT COUNT(*)\n",
    "FROM titleauthor;\n",
    "\n",
    "\n",
    "#challenge 2\n",
    "\n",
    "SELECT\n",
    "\t\ta.au_id, \n",
    "\t\ta.au_lname, \n",
    "\t\ta.au_fname,\n",
    "\t\tp.pub_name,\n",
    "\t\tcount(distinct ti.title)\n",
    "\t\n",
    "\t\t\n",
    "FROM authors as a \n",
    "JOIN titleauthor as t on a.au_id = t.au_id\n",
    "JOIN titles as ti on t.title_id = ti.title_id\n",
    "JOIN publishers as p on ti.pub_id = p.pub_id\n",
    "GROUP BY 1,2,3,4;\n",
    "\n",
    "#challenge 3\n",
    "\n",
    "\n"
   ]
  }
 ],
 "metadata": {
  "kernelspec": {
   "display_name": "Python 3",
   "language": "python",
   "name": "python3"
  },
  "language_info": {
   "codemirror_mode": {
    "name": "ipython",
    "version": 3
   },
   "file_extension": ".py",
   "mimetype": "text/x-python",
   "name": "python",
   "nbconvert_exporter": "python",
   "pygments_lexer": "ipython3",
   "version": "3.6.3"
  }
 },
 "nbformat": 4,
 "nbformat_minor": 2
}
